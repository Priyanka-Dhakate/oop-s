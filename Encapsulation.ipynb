{
 "cells": [
  {
   "cell_type": "markdown",
   "id": "6836f0ea",
   "metadata": {},
   "source": [
    "#### Encapsulation\n",
    "            Hide the data. ex:-capsule"
   ]
  },
  {
   "cell_type": "markdown",
   "id": "f429feaf",
   "metadata": {},
   "source": [
    "### public "
   ]
  },
  {
   "cell_type": "code",
   "execution_count": 10,
   "id": "6645a11c",
   "metadata": {},
   "outputs": [
    {
     "name": "stdout",
     "output_type": "stream",
     "text": [
      "live free ride hard\n"
     ]
    },
    {
     "data": {
      "text/plain": [
       "'royal enfield'"
      ]
     },
     "execution_count": 10,
     "metadata": {},
     "output_type": "execute_result"
    }
   ],
   "source": [
    "class bike:\n",
    "    def a(self):\n",
    "        self.name=\"royal enfield\"\n",
    "    \n",
    "    def ride(self):\n",
    "        print(\"live free ride hard\")\n",
    "        \n",
    "obj=bike()\n",
    "obj.a()\n",
    "obj.ride()\n",
    "obj.name"
   ]
  },
  {
   "cell_type": "markdown",
   "id": "06ef6ed4",
   "metadata": {},
   "source": [
    "### protected member"
   ]
  },
  {
   "cell_type": "code",
   "execution_count": 11,
   "id": "89fb683d",
   "metadata": {},
   "outputs": [
    {
     "name": "stdout",
     "output_type": "stream",
     "text": [
      "calling protected member of base class 2\n"
     ]
    },
    {
     "data": {
      "text/plain": [
       "2"
      ]
     },
     "execution_count": 11,
     "metadata": {},
     "output_type": "execute_result"
    }
   ],
   "source": [
    "class base:\n",
    "    def __init__(self):\n",
    "        self._a=2\n",
    "class derived(base):\n",
    "    def protected(self):\n",
    "        print(\"calling protected member of base class\",self._a)\n",
    "obj=derived()\n",
    "obj.protected()\n",
    "obj._a"
   ]
  },
  {
   "cell_type": "markdown",
   "id": "a2ddb44d",
   "metadata": {},
   "source": [
    "### private member"
   ]
  },
  {
   "cell_type": "code",
   "execution_count": 12,
   "id": "48f4ea56",
   "metadata": {},
   "outputs": [
    {
     "ename": "AttributeError",
     "evalue": "'derived' object has no attribute '_derived__a'",
     "output_type": "error",
     "traceback": [
      "\u001b[1;31m---------------------------------------------------------------------------\u001b[0m",
      "\u001b[1;31mAttributeError\u001b[0m                            Traceback (most recent call last)",
      "Cell \u001b[1;32mIn[12], line 9\u001b[0m\n\u001b[0;32m      7\u001b[0m         \u001b[38;5;28mprint\u001b[39m(\u001b[38;5;124m\"\u001b[39m\u001b[38;5;124mcalling private member of base class\u001b[39m\u001b[38;5;124m\"\u001b[39m,\u001b[38;5;28mself\u001b[39m\u001b[38;5;241m.\u001b[39m__a)\n\u001b[0;32m      8\u001b[0m obj\u001b[38;5;241m=\u001b[39mderived()\n\u001b[1;32m----> 9\u001b[0m obj\u001b[38;5;241m.\u001b[39mprivate()\n",
      "Cell \u001b[1;32mIn[12], line 7\u001b[0m, in \u001b[0;36mderived.private\u001b[1;34m(self)\u001b[0m\n\u001b[0;32m      6\u001b[0m \u001b[38;5;28;01mdef\u001b[39;00m \u001b[38;5;21mprivate\u001b[39m(\u001b[38;5;28mself\u001b[39m):\n\u001b[1;32m----> 7\u001b[0m     \u001b[38;5;28mprint\u001b[39m(\u001b[38;5;124m\"\u001b[39m\u001b[38;5;124mcalling private member of base class\u001b[39m\u001b[38;5;124m\"\u001b[39m,\u001b[38;5;28mself\u001b[39m\u001b[38;5;241m.\u001b[39m__a)\n",
      "\u001b[1;31mAttributeError\u001b[0m: 'derived' object has no attribute '_derived__a'"
     ]
    }
   ],
   "source": [
    "class base:\n",
    "    a=5\n",
    "    def __init__(self):\n",
    "        self.__a=2\n",
    "class derived(base):\n",
    "    def private(self):\n",
    "        print(\"calling private member of base class\",self.__a)\n",
    "obj=derived()\n",
    "obj.private()"
   ]
  },
  {
   "cell_type": "code",
   "execution_count": null,
   "id": "375455c9",
   "metadata": {},
   "outputs": [],
   "source": []
  }
 ],
 "metadata": {
  "kernelspec": {
   "display_name": "Python 3 (ipykernel)",
   "language": "python",
   "name": "python3"
  },
  "language_info": {
   "codemirror_mode": {
    "name": "ipython",
    "version": 3
   },
   "file_extension": ".py",
   "mimetype": "text/x-python",
   "name": "python",
   "nbconvert_exporter": "python",
   "pygments_lexer": "ipython3",
   "version": "3.11.4"
  }
 },
 "nbformat": 4,
 "nbformat_minor": 5
}
