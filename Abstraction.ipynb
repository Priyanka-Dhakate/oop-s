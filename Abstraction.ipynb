{
 "cells": [
  {
   "cell_type": "code",
   "execution_count": 7,
   "id": "aaaf113e",
   "metadata": {},
   "outputs": [
    {
     "name": "stdout",
     "output_type": "stream",
     "text": [
      "Studing python\n"
     ]
    }
   ],
   "source": [
    "from abc import ABC,abstractclassmethod\n",
    "class my_class:           #concrete class\n",
    "    def study(self):\n",
    "        print(\"Studing python\")\n",
    "        \n",
    "obj1=my_class()\n",
    "obj1.study()"
   ]
  },
  {
   "cell_type": "code",
   "execution_count": 8,
   "id": "42ea4562",
   "metadata": {},
   "outputs": [
    {
     "ename": "TypeError",
     "evalue": "Can't instantiate abstract class my_class1 with abstract method mock",
     "output_type": "error",
     "traceback": [
      "\u001b[1;31m---------------------------------------------------------------------------\u001b[0m",
      "\u001b[1;31mTypeError\u001b[0m                                 Traceback (most recent call last)",
      "Cell \u001b[1;32mIn[8], line 9\u001b[0m\n\u001b[0;32m      5\u001b[0m     \u001b[38;5;129m@abstractclassmethod\u001b[39m\n\u001b[0;32m      6\u001b[0m     \u001b[38;5;28;01mdef\u001b[39;00m \u001b[38;5;21mmock\u001b[39m(\u001b[38;5;28mself\u001b[39m):\n\u001b[0;32m      7\u001b[0m         \u001b[38;5;28;01mpass\u001b[39;00m\n\u001b[1;32m----> 9\u001b[0m obj\u001b[38;5;241m=\u001b[39mmy_class1()\n",
      "\u001b[1;31mTypeError\u001b[0m: Can't instantiate abstract class my_class1 with abstract method mock"
     ]
    }
   ],
   "source": [
    "from abc import ABC,abstractclassmethod\n",
    "class my_class1(ABC):\n",
    "    def study(self):        #abstract class\n",
    "        print(\"Studing python\")\n",
    "        \n",
    "    @abstractclassmethod\n",
    "    def mock(self):\n",
    "        pass\n",
    "    \n",
    "obj=my_class1()"
   ]
  },
  {
   "cell_type": "code",
   "execution_count": 2,
   "id": "44247359",
   "metadata": {},
   "outputs": [
    {
     "name": "stdout",
     "output_type": "stream",
     "text": [
      "doing mock to become DS\n",
      "enjoying the weekend to fullest\n"
     ]
    }
   ],
   "source": [
    "from abc import ABC,abstractclassmethod\n",
    "class my_class1(ABC):        #abstract class\n",
    "    def study(self):\n",
    "        pass\n",
    "    @abstractclassmethod     #abstract method\n",
    "    def mock(self):\n",
    "        pass\n",
    "class student(my_class1):       #concrete class\n",
    "    def miss_mock(self):\n",
    "        print(\"enjoying the weekend to fullest\")\n",
    "        \n",
    "    def mock(self):\n",
    "        print(\"doing mock to become DS\")\n",
    "        \n",
    "    def study(self):\n",
    "        pass\n",
    "    \n",
    "s1=student()\n",
    "s1.mock()\n",
    "s1.miss_mock()\n",
    "s1.study()"
   ]
  },
  {
   "cell_type": "markdown",
   "id": "5d679990",
   "metadata": {},
   "source": [
    "#### Super method"
   ]
  },
  {
   "cell_type": "code",
   "execution_count": 9,
   "id": "c313f105",
   "metadata": {},
   "outputs": [
    {
     "name": "stdout",
     "output_type": "stream",
     "text": [
      "hisssssing sound\n",
      "i am going to sleep\n",
      "i am walking\n"
     ]
    }
   ],
   "source": [
    "from abc import ABC,abstractclassmethod\n",
    "class Animal(ABC):     #abstract class\n",
    "    def sleep(self):   #concrete method\n",
    "        print(\"i am going to sleep\")\n",
    "    def walk(self):\n",
    "        print(\"i am walking\")\n",
    "    @abstractclassmethod\n",
    "    def sound(self):     #abstract method   \n",
    "        pass\n",
    "    \n",
    "class snake(Animal):\n",
    "    def sound(self):\n",
    "        print(\"hisssssing sound\")\n",
    "        super()\n",
    "        \n",
    "s=snake()\n",
    "s.sound()\n",
    "s.sleep()\n",
    "s.walk()"
   ]
  },
  {
   "cell_type": "code",
   "execution_count": null,
   "id": "a0a16e55",
   "metadata": {},
   "outputs": [],
   "source": []
  }
 ],
 "metadata": {
  "kernelspec": {
   "display_name": "Python 3 (ipykernel)",
   "language": "python",
   "name": "python3"
  },
  "language_info": {
   "codemirror_mode": {
    "name": "ipython",
    "version": 3
   },
   "file_extension": ".py",
   "mimetype": "text/x-python",
   "name": "python",
   "nbconvert_exporter": "python",
   "pygments_lexer": "ipython3",
   "version": "3.11.4"
  }
 },
 "nbformat": 4,
 "nbformat_minor": 5
}
