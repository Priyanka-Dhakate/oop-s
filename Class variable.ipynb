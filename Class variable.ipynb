{
 "cells": [
  {
   "cell_type": "markdown",
   "id": "253eb065",
   "metadata": {},
   "source": [
    "#### There are three types of variable.\n",
    "    1. instence variable\n",
    "    2. static variable\n",
    "    3. local variable"
   ]
  },
  {
   "cell_type": "code",
   "execution_count": 1,
   "id": "2c4edbc9",
   "metadata": {},
   "outputs": [
    {
     "name": "stdout",
     "output_type": "stream",
     "text": [
      "Ms Dhoni\n",
      "the winner of ipl is RBC\n",
      "instance variable is: Ms Dhoni\n"
     ]
    },
    {
     "data": {
      "text/plain": [
       "'India'"
      ]
     },
     "execution_count": 1,
     "metadata": {},
     "output_type": "execute_result"
    }
   ],
   "source": [
    "class cricket:\n",
    "    Team=\"India\"    #static variable\n",
    "    \n",
    "    def __init__(self,name,jersy_no):\n",
    "        self.name=name\n",
    "        self.jersy_no=jersy_no   #instance variable\n",
    "        \n",
    "    def IPL(self):\n",
    "        x=\"RBC\"    #local variable\n",
    "        print(\"the winner of ipl is\",x)\n",
    "        print(\"instance variable is:\", self.name)\n",
    "        \n",
    "obj=cricket(\"Ms Dhoni\",7)\n",
    "print(obj.name)\n",
    "obj.IPL()\n",
    "cricket.Team\n",
    "        "
   ]
  },
  {
   "cell_type": "code",
   "execution_count": null,
   "id": "353649ac",
   "metadata": {},
   "outputs": [],
   "source": []
  }
 ],
 "metadata": {
  "kernelspec": {
   "display_name": "Python 3 (ipykernel)",
   "language": "python",
   "name": "python3"
  },
  "language_info": {
   "codemirror_mode": {
    "name": "ipython",
    "version": 3
   },
   "file_extension": ".py",
   "mimetype": "text/x-python",
   "name": "python",
   "nbconvert_exporter": "python",
   "pygments_lexer": "ipython3",
   "version": "3.11.4"
  }
 },
 "nbformat": 4,
 "nbformat_minor": 5
}
