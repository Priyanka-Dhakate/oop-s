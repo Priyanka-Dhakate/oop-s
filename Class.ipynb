{
 "cells": [
  {
   "cell_type": "markdown",
   "id": "53051f5c",
   "metadata": {},
   "source": [
    "#### Class: class is basically a template or blueprint for object."
   ]
  },
  {
   "cell_type": "code",
   "execution_count": 2,
   "id": "63699ce1",
   "metadata": {},
   "outputs": [
    {
     "name": "stdout",
     "output_type": "stream",
     "text": [
      "The car name is Ferrari ,color is ,and speed is 340KMPH\n"
     ]
    }
   ],
   "source": [
    "class car:             #without init\n",
    "    def specifications(self,name,speed):\n",
    "        self.name=name\n",
    "        self.speed=speed\n",
    "        print(\"The car name is\",self.name,\",color is\",\",and speed is\",self.speed)\n",
    "obj1=car()\n",
    "obj1.specifications(\"Ferrari\", \"340KMPH\")"
   ]
  },
  {
   "cell_type": "markdown",
   "id": "c3de0372",
   "metadata": {},
   "source": [
    "### with init()"
   ]
  },
  {
   "cell_type": "code",
   "execution_count": 4,
   "id": "91d7bbb0",
   "metadata": {},
   "outputs": [
    {
     "name": "stdout",
     "output_type": "stream",
     "text": [
      "The car name is Ferrari ,color is ,and speed is 340KMPH\n"
     ]
    }
   ],
   "source": [
    "class car:\n",
    "    def __init__(self,name,speed):\n",
    "        self.name=name\n",
    "        self.speed=speed\n",
    "        print(\"The car name is\",self.name,\",color is\",\",and speed is\",self.speed)\n",
    "obj1=car(\"Ferrari\", \"340KMPH\")\n"
   ]
  },
  {
   "cell_type": "code",
   "execution_count": null,
   "id": "a8590358",
   "metadata": {},
   "outputs": [],
   "source": []
  }
 ],
 "metadata": {
  "kernelspec": {
   "display_name": "Python 3 (ipykernel)",
   "language": "python",
   "name": "python3"
  },
  "language_info": {
   "codemirror_mode": {
    "name": "ipython",
    "version": 3
   },
   "file_extension": ".py",
   "mimetype": "text/x-python",
   "name": "python",
   "nbconvert_exporter": "python",
   "pygments_lexer": "ipython3",
   "version": "3.11.4"
  }
 },
 "nbformat": 4,
 "nbformat_minor": 5
}
