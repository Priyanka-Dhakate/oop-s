{
 "cells": [
  {
   "cell_type": "markdown",
   "id": "5f334ab0",
   "metadata": {},
   "source": [
    "### Inheritance\n",
    "    Types of Inheritance\n",
    "    1.Single inheritance\n",
    "    2.Multiple inheritance\n",
    "    3.Multilevel inheritance\n",
    "    4.Hierarchical inheritance\n",
    "    5.Hybrid inheritance\n",
    "    "
   ]
  },
  {
   "cell_type": "markdown",
   "id": "3e828cd4",
   "metadata": {},
   "source": [
    "### 1.Single inheritance"
   ]
  },
  {
   "cell_type": "markdown",
   "id": "e0680455",
   "metadata": {},
   "source": [
    "    one parent class and one child class"
   ]
  },
  {
   "cell_type": "code",
   "execution_count": 1,
   "id": "b12466c6",
   "metadata": {},
   "outputs": [
    {
     "name": "stdout",
     "output_type": "stream",
     "text": [
      "feature 1 is working\n"
     ]
    }
   ],
   "source": [
    "class A:\n",
    "    def feature1(self):\n",
    "        print(\"feature 1 is working\")\n",
    "    def feature2(self):\n",
    "        print(\"feature 2 is working\")\n",
    "        \n",
    "class B(A):\n",
    "    def feature3(self):\n",
    "        print(\"feature 3 is working\")\n",
    "    def feature4(self):\n",
    "        print(\"feature 4 is working\")\n",
    "        \n",
    "b=B()\n",
    "b.feature1()"
   ]
  },
  {
   "cell_type": "markdown",
   "id": "6f704052",
   "metadata": {},
   "source": [
    "### 2.Multiple inheritance\n",
    "    one child class and multiple parent class"
   ]
  },
  {
   "cell_type": "code",
   "execution_count": 3,
   "id": "47e71163",
   "metadata": {},
   "outputs": [
    {
     "name": "stdout",
     "output_type": "stream",
     "text": [
      "feature 2 is working\n",
      "feature 3 is working\n",
      "feature 6 is working\n"
     ]
    }
   ],
   "source": [
    "class A:\n",
    "    def feature1(self):\n",
    "        print(\"feature 1 is working\")\n",
    "    def feature2(self):\n",
    "        print(\"feature 2 is working\")\n",
    "        \n",
    "class B:\n",
    "    def feature3(self):\n",
    "        print(\"feature 3 is working\")\n",
    "    def feature4(self):\n",
    "        print(\"feature 4 is working\")\n",
    "    \n",
    "class C(A,B):\n",
    "    def feature5(self):\n",
    "        print(\"feature 5 is working\")\n",
    "    def feature6(self):\n",
    "        print(\"feature 6 is working\")\n",
    "c=C()\n",
    "c.feature2()\n",
    "c.feature3()\n",
    "c.feature6()"
   ]
  },
  {
   "cell_type": "markdown",
   "id": "823c7971",
   "metadata": {},
   "source": [
    "### 3.Multilevel inheritance\n",
    "    "
   ]
  },
  {
   "cell_type": "code",
   "execution_count": 4,
   "id": "7e1397db",
   "metadata": {},
   "outputs": [
    {
     "name": "stdout",
     "output_type": "stream",
     "text": [
      "feature 1 is working\n",
      "feature 3 is working\n",
      "feature 6 is working\n"
     ]
    }
   ],
   "source": [
    "class A:\n",
    "    def feature1(self):\n",
    "        print(\"feature 1 is working\")\n",
    "    def feature2(self):\n",
    "        print(\"feature 2 is working\")\n",
    "        \n",
    "class B(A):\n",
    "    def feature3(self):\n",
    "        print(\"feature 3 is working\")\n",
    "    def feature4(self):\n",
    "        print(\"feature 4 is working\")\n",
    "    \n",
    "class C(B):\n",
    "    def feature5(self):\n",
    "        print(\"feature 5 is working\")\n",
    "    def feature6(self):\n",
    "        print(\"feature 6 is working\")\n",
    "c=C()\n",
    "c.feature1()\n",
    "c.feature3()\n",
    "c.feature6()"
   ]
  },
  {
   "cell_type": "markdown",
   "id": "b6d8ec0e",
   "metadata": {},
   "source": [
    "### 4.Hierarchical inheritance\n",
    "    one parent class and multiple child class"
   ]
  },
  {
   "cell_type": "code",
   "execution_count": 8,
   "id": "604f1dc0",
   "metadata": {},
   "outputs": [
    {
     "name": "stdout",
     "output_type": "stream",
     "text": [
      "feature 2 is working\n",
      "feature 5 is working\n"
     ]
    }
   ],
   "source": [
    "class A:\n",
    "    def feature1(self):\n",
    "        print(\"feature 1 is working\")\n",
    "    def feature2(self):\n",
    "        print(\"feature 2 is working\")\n",
    "        \n",
    "class B(A):\n",
    "    def feature3(self):\n",
    "        print(\"feature 3 is working\")\n",
    "    def feature4(self):\n",
    "        print(\"feature 4 is working\")\n",
    "\n",
    "b=B()\n",
    "b.feature2()\n",
    "    \n",
    "class C(A):\n",
    "    def feature5(self):\n",
    "        print(\"feature 5 is working\")\n",
    "    def feature6(self):\n",
    "        print(\"feature 6 is working\")\n",
    "c=C()\n",
    "c.feature5()\n"
   ]
  },
  {
   "cell_type": "markdown",
   "id": "a3b30b73",
   "metadata": {},
   "source": [
    "### 5.Hybrid inheritance\n",
    "    multiple parent and child class"
   ]
  },
  {
   "cell_type": "code",
   "execution_count": 11,
   "id": "3edb9ed2",
   "metadata": {},
   "outputs": [
    {
     "name": "stdout",
     "output_type": "stream",
     "text": [
      "feature 2 is working\n",
      "feature 5 is working\n",
      "feature 2 is working\n"
     ]
    }
   ],
   "source": [
    "class A:\n",
    "    def feature1(self):\n",
    "        print(\"feature 1 is working\")\n",
    "    def feature2(self):\n",
    "        print(\"feature 2 is working\")\n",
    "        \n",
    "class B(A):\n",
    "    def feature3(self):\n",
    "        print(\"feature 3 is working\")\n",
    "    def feature4(self):\n",
    "        print(\"feature 4 is working\")\n",
    "\n",
    "b=B()\n",
    "b.feature2()\n",
    "    \n",
    "class C(A):\n",
    "    def feature5(self):\n",
    "        print(\"feature 5 is working\")\n",
    "    def feature6(self):\n",
    "        print(\"feature 6 is working\")\n",
    "c=C()\n",
    "c.feature5()\n",
    "\n",
    "class D(B,C):\n",
    "    def feature7(self):\n",
    "        print(\"feature 7 is working\")\n",
    "    def feature8(self):\n",
    "        print(\"feature 8 is working\")\n",
    "d=D()\n",
    "d.feature2()"
   ]
  },
  {
   "cell_type": "code",
   "execution_count": null,
   "id": "a2590994",
   "metadata": {},
   "outputs": [],
   "source": []
  }
 ],
 "metadata": {
  "kernelspec": {
   "display_name": "Python 3 (ipykernel)",
   "language": "python",
   "name": "python3"
  },
  "language_info": {
   "codemirror_mode": {
    "name": "ipython",
    "version": 3
   },
   "file_extension": ".py",
   "mimetype": "text/x-python",
   "name": "python",
   "nbconvert_exporter": "python",
   "pygments_lexer": "ipython3",
   "version": "3.11.4"
  }
 },
 "nbformat": 4,
 "nbformat_minor": 5
}
