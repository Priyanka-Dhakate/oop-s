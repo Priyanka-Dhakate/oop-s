{
 "cells": [
  {
   "cell_type": "markdown",
   "id": "3723b49d",
   "metadata": {},
   "source": [
    "### Polymorphism:- Many Forms\n",
    "    one operator behave differently.\n",
    "    1.Operator Overloading\n",
    "    2.Method Overloading\n",
    "    3.Method Overriding"
   ]
  },
  {
   "cell_type": "markdown",
   "id": "ce79866c",
   "metadata": {},
   "source": [
    "### 1. Operator Overloading"
   ]
  },
  {
   "cell_type": "code",
   "execution_count": 3,
   "id": "acc9118e",
   "metadata": {},
   "outputs": [
    {
     "name": "stdout",
     "output_type": "stream",
     "text": [
      "3\n",
      "datascience\n",
      "12\n",
      "pythonpythonpython\n"
     ]
    }
   ],
   "source": [
    "print(1+2)\n",
    "print(\"data\"+ \"science\")\n",
    "print(3*4)\n",
    "print(\"python\"*3)"
   ]
  },
  {
   "cell_type": "markdown",
   "id": "ee98c2d5",
   "metadata": {},
   "source": [
    "### 2. Method Overloading"
   ]
  },
  {
   "cell_type": "code",
   "execution_count": 5,
   "id": "10946fc3",
   "metadata": {},
   "outputs": [
    {
     "name": "stdout",
     "output_type": "stream",
     "text": [
      "109\n"
     ]
    }
   ],
   "source": [
    "class Overloading:\n",
    "    def add(self,a,b):\n",
    "        print(a+b)\n",
    "    def add(self,a,b,c):\n",
    "        print(a+b+c)\n",
    "a=Overloading()\n",
    "\n",
    "a.add(34,21,54)"
   ]
  },
  {
   "cell_type": "code",
   "execution_count": 6,
   "id": "96f37ae4",
   "metadata": {},
   "outputs": [
    {
     "ename": "TypeError",
     "evalue": "Overloading.add() missing 1 required positional argument: 'c'",
     "output_type": "error",
     "traceback": [
      "\u001b[1;31m---------------------------------------------------------------------------\u001b[0m",
      "\u001b[1;31mTypeError\u001b[0m                                 Traceback (most recent call last)",
      "Cell \u001b[1;32mIn[6], line 1\u001b[0m\n\u001b[1;32m----> 1\u001b[0m a\u001b[38;5;241m.\u001b[39madd(\u001b[38;5;241m23\u001b[39m,\u001b[38;5;241m43\u001b[39m)\n",
      "\u001b[1;31mTypeError\u001b[0m: Overloading.add() missing 1 required positional argument: 'c'"
     ]
    }
   ],
   "source": [
    "a.add(23,43)"
   ]
  },
  {
   "cell_type": "code",
   "execution_count": 7,
   "id": "8f68a2c9",
   "metadata": {},
   "outputs": [
    {
     "name": "stdout",
     "output_type": "stream",
     "text": [
      "90\n",
      "109\n"
     ]
    }
   ],
   "source": [
    "class Overloading:\n",
    "    def add(self,a,b):\n",
    "        print(a+b)\n",
    "    def add(self,a,b,c=24):\n",
    "        print(a+b+c)\n",
    "a=Overloading()\n",
    "a.add(23,43)\n",
    "a.add(34,21,54)"
   ]
  },
  {
   "cell_type": "markdown",
   "id": "c3df6acc",
   "metadata": {},
   "source": [
    "### 3. Method Overriding"
   ]
  },
  {
   "cell_type": "code",
   "execution_count": 9,
   "id": "9941d17b",
   "metadata": {},
   "outputs": [
    {
     "name": "stdout",
     "output_type": "stream",
     "text": [
      "there are different types of birds\n",
      "parrots can fly\n"
     ]
    },
    {
     "ename": "TypeError",
     "evalue": "parrot.flight() takes 1 positional argument but 2 were given",
     "output_type": "error",
     "traceback": [
      "\u001b[1;31m---------------------------------------------------------------------------\u001b[0m",
      "\u001b[1;31mTypeError\u001b[0m                                 Traceback (most recent call last)",
      "Cell \u001b[1;32mIn[9], line 17\u001b[0m\n\u001b[0;32m     15\u001b[0m obj1\u001b[38;5;241m=\u001b[39mparrot()\n\u001b[0;32m     16\u001b[0m obj1\u001b[38;5;241m.\u001b[39mflight()\n\u001b[1;32m---> 17\u001b[0m obj1\u001b[38;5;241m.\u001b[39mflight(bird)\n\u001b[0;32m     18\u001b[0m obj2\u001b[38;5;241m=\u001b[39mpenguin()\n\u001b[0;32m     19\u001b[0m obj2\u001b[38;5;241m.\u001b[39mflight()\n",
      "\u001b[1;31mTypeError\u001b[0m: parrot.flight() takes 1 positional argument but 2 were given"
     ]
    }
   ],
   "source": [
    "class bird:\n",
    "    def intro(self):\n",
    "        print(\"there are different types of birds\")\n",
    "    def flight(self):\n",
    "        print(\"most of the birds can fly bt some cannot\")\n",
    "class parrot(bird):\n",
    "    def flight(self):\n",
    "        print(\"parrots can fly\")\n",
    "class penguin(bird):\n",
    "    def flight(self):\n",
    "        print(\"penguin do not fly\")\n",
    "obj=bird()\n",
    "obj.intro()\n",
    "obj.flight()\n",
    "obj1=parrot()\n",
    "obj1.flight()\n",
    "obj2=penguin()\n",
    "obj2.flight()"
   ]
  },
  {
   "cell_type": "code",
   "execution_count": null,
   "id": "6fd316ca",
   "metadata": {},
   "outputs": [],
   "source": []
  }
 ],
 "metadata": {
  "kernelspec": {
   "display_name": "Python 3 (ipykernel)",
   "language": "python",
   "name": "python3"
  },
  "language_info": {
   "codemirror_mode": {
    "name": "ipython",
    "version": 3
   },
   "file_extension": ".py",
   "mimetype": "text/x-python",
   "name": "python",
   "nbconvert_exporter": "python",
   "pygments_lexer": "ipython3",
   "version": "3.11.4"
  }
 },
 "nbformat": 4,
 "nbformat_minor": 5
}
